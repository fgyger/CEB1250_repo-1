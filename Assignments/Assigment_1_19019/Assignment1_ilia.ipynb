{
 "cells": [
  {
   "cell_type": "markdown",
   "metadata": {},
   "source": [
    "<h><b>Assignment 1: CEBD1250</b></h>\n",
    "<br>Receipt date: January 19th, 2019\n",
    "<br>Submission date: January 26th, 2019"
   ]
  },
  {
   "cell_type": "markdown",
   "metadata": {},
   "source": [
    "# Ask the user for a number. Depending on whether the number is even or odd, print out an appropriate message.\n"
   ]
  },
  {
   "cell_type": "code",
   "execution_count": 73,
   "metadata": {},
   "outputs": [
    {
     "name": "stdout",
     "output_type": "stream",
     "text": [
      "Please enter any integer greater than 0 :15\n",
      "\n",
      "This number is odd\n"
     ]
    }
   ],
   "source": [
    "number_s = input(\"Please enter any integer greater than 0 :\")\n",
    "number_s = int(number_s)\n",
    "#modulo operator divides by two and returns remainder\n",
    "number_s1 = number_s%2 \n",
    "\n",
    "if (number_s1 !=0):\n",
    "    result_s = \"odd\"\n",
    "else:\n",
    "    result_s = \"even\"\n",
    "\n",
    "print(\"\\nThis number is \" + str(result_s))\n"
   ]
  },
  {
   "cell_type": "markdown",
   "metadata": {},
   "source": [
    "# Exercise number 2"
   ]
  },
  {
   "cell_type": "markdown",
   "metadata": {},
   "source": [
    "Expanding the previous exercise, let’s say I give you a list saved in a variable: \n",
    "a = [1, 4, 9, 16, 25, 36, 49, 64, 81, 100]. \n",
    "Write one line of Python that takes this list a and makes a new list that has only the even elements of this list in it."
   ]
  },
  {
   "cell_type": "code",
   "execution_count": 33,
   "metadata": {},
   "outputs": [
    {
     "name": "stdout",
     "output_type": "stream",
     "text": [
      "[1, 4, 9, 16, 25, 36, 49, 64, 81, 100]\n"
     ]
    }
   ],
   "source": [
    "a = [1, 4, 9, 16, 25, 36, 49, 64, 81, 100]\n",
    "print(a[:11])"
   ]
  },
  {
   "cell_type": "markdown",
   "metadata": {},
   "source": [
    "# Create a function that takes a list of numbers. Return the largest number in the list.\n"
   ]
  },
  {
   "cell_type": "code",
   "execution_count": 50,
   "metadata": {},
   "outputs": [
    {
     "name": "stdout",
     "output_type": "stream",
     "text": [
      "100 22 1 3 13 7 65\n",
      "\n",
      "The highest number from the number sequence\n",
      "100\n",
      "\n",
      "The highest number from the number sequence 100\n"
     ]
    }
   ],
   "source": [
    "#print(\"Please enter an integer greater than 0 (e.g. 1 2 3 4):\")\n",
    "\n",
    "#Ref.: https://stackoverflow.com/questions/4663306/get-a-list-of-numbers-as-input-from-the-user\n",
    "number_s = [int(x) for x in input().split()]\n",
    "len_s = len(number_s)\n",
    "\n",
    "#first approach for testing\n",
    "print(\"\\nThe highest number from the number sequence\")\n",
    "print(max(number_s))\n",
    "i=0\n",
    "\n",
    "#second approach\n",
    "for x in range (0,len_s):\n",
    "    if (number_s[x] > i):\n",
    "        i = number_s[x]\n",
    "        \n",
    "print(\"\\nThe highest number from the number sequence \" + str(i))\n"
   ]
  },
  {
   "cell_type": "markdown",
   "metadata": {},
   "source": [
    "# Ask the user for a string and print out whether this string is a palindrome or not."
   ]
  },
  {
   "cell_type": "markdown",
   "metadata": {},
   "source": [
    "(A palindrome is a string that reads the same forwards and backwards.)"
   ]
  },
  {
   "cell_type": "code",
   "execution_count": 26,
   "metadata": {},
   "outputs": [
    {
     "name": "stdout",
     "output_type": "stream",
     "text": [
      "Please input sample string :mottom\n",
      "\n",
      "This is a palindrome string\n"
     ]
    }
   ],
   "source": [
    "#Verify if string is a palindrom string\n",
    "sample_s1 = str(input(\"Please input sample string :\"))\n",
    "\n",
    "#reverse a string\n",
    "#ref.: https://www.w3schools.com/python/python_howto_reverse_string.asp\n",
    "sample_s2 = sample_s1[::-1]\n",
    "\n",
    "if (sample_s2 == sample_s1):\n",
    "    print (\"\\nThis is a palindrome string\")\n",
    "else:\n",
    "    print (\"\\nThis is not a palindrome string\")\n",
    "    "
   ]
  },
  {
   "cell_type": "markdown",
   "metadata": {},
   "source": [
    "# Write a program that asks the user how many Fibonnaci numbers to generate and then generates them. "
   ]
  },
  {
   "cell_type": "code",
   "execution_count": 34,
   "metadata": {},
   "outputs": [
    {
     "name": "stdout",
     "output_type": "stream",
     "text": [
      "Please input (a positive integer number greater than 2) how many Fibonnaci numbers need to be generated :\n",
      "10\n",
      "\n",
      "The Fibonnaci numbers are the following\n",
      "[0, 1, 1, 2, 3, 5, 8, 13, 21, 34]\n"
     ]
    }
   ],
   "source": [
    "#Generate fibonacci numbers\n",
    "print(\"Please input (a positive integer number greater than 2) how many Fibonnaci numbers need to be generated :\")\n",
    "F_number = input()\n",
    "F_number = int(F_number)\n",
    "\n",
    "# create a list of size F_number with null values\n",
    "# Ref. https://stackoverflow.com/questions/10712002/create-an-empty-list-in-python-with-certain-size\n",
    "F_sequence = [0] * F_number\n",
    "\n",
    "F_sequence[0] = 0\n",
    "F_sequence[1] = 1\n",
    "\n",
    "for x in range(2,F_number):\n",
    "    F_sequence[x] = F_sequence[x-1] + F_sequence[x-2]\n",
    "    \n",
    "print(\"\\nThe Fibonnaci numbers are the following\")\n",
    "print(F_sequence)\n"
   ]
  },
  {
   "cell_type": "markdown",
   "metadata": {},
   "source": [
    "# Write a program that takes a number and print its square."
   ]
  },
  {
   "cell_type": "code",
   "execution_count": 4,
   "metadata": {},
   "outputs": [
    {
     "name": "stdout",
     "output_type": "stream",
     "text": [
      "Please input a number :\n",
      "5\n",
      "\n",
      "This square of 5.0 is 25.0\n"
     ]
    }
   ],
   "source": [
    "# Number squared\n",
    "\n",
    "import math #import math library\n",
    "\n",
    "print(\"Please input a number :\")\n",
    "number_s1 = input()\n",
    "number_s1 = float(number_s1)\n",
    "\n",
    "number_s2 = number_s1**2 #alternate method math.pow(number_s1,2)\n",
    "\n",
    "print(\"\\nThis square of \" + str(number_s1) + \" is \" + str(number_s2))\n"
   ]
  },
  {
   "cell_type": "markdown",
   "metadata": {},
   "source": [
    "# Given an list of positive integers with higher than 0 the answer should contain average values."
   ]
  },
  {
   "cell_type": "code",
   "execution_count": 74,
   "metadata": {},
   "outputs": [
    {
     "name": "stdout",
     "output_type": "stream",
     "text": [
      "1 2 3 4\n",
      "2.5\n"
     ]
    }
   ],
   "source": [
    "#print(\"Please enter an integer greater than 0 (e.g. 1 2 3 4):\")\n",
    "\n",
    "#Ref.: https://stackoverflow.com/questions/4663306/get-a-list-of-numbers-as-input-from-the-user\n",
    "number_s = [int(x) for x in input().split()]\n",
    "\n",
    "length_s = len(number_s)\n",
    "sum_s = sum(number_s)\n",
    "avg_s = (sum_s / length_s)\n",
    "print(avg_s)\n"
   ]
  },
  {
   "cell_type": "markdown",
   "metadata": {},
   "source": [
    "# Return the number of vowels per string."
   ]
  },
  {
   "cell_type": "code",
   "execution_count": 72,
   "metadata": {},
   "outputs": [
    {
     "name": "stdout",
     "output_type": "stream",
     "text": [
      "Please input sample string :\n",
      "hi there\n",
      "\n",
      "There are 3 vowels\n"
     ]
    }
   ],
   "source": [
    "#Number of vowels per string (to be continued)\n",
    "print (\"Please input sample string :\")\n",
    "sample_s = input()\n",
    "sample_s = str(sample_s)\n",
    "length_s = len(sample_s)\n",
    "\n",
    "vowels = ['a','A','e','E','i','I','o','O','u','U']\n",
    "length_v = len(vowels)\n",
    "\n",
    "vowel_count = 0\n",
    "\n",
    "for x in range(1,length_s+1):\n",
    "    \n",
    "    for y in range (0, length_v):\n",
    "        \n",
    "        if (sample_s[x-1:x] == vowels[y]):\n",
    "            vowel_count += 1 \n",
    "            \n",
    "\n",
    " \n",
    "print(\"\\nThere are \" + str(vowel_count)+\" vowels\")\n"
   ]
  },
  {
   "cell_type": "markdown",
   "metadata": {},
   "source": [
    "# Write a program to convert degrees of Fahrenheit to Celsius."
   ]
  },
  {
   "cell_type": "code",
   "execution_count": 76,
   "metadata": {},
   "outputs": [
    {
     "name": "stdout",
     "output_type": "stream",
     "text": [
      "Please input temperature in Farenheit :55\n",
      "\n",
      "12.78 degrees C are approximately equivalent 55.0 degrees F\n"
     ]
    }
   ],
   "source": [
    "#Farenheit to celcius\n",
    "temp_F = input(\"Please input temperature in Farenheit :\")\n",
    "temp_F = float(temp_F)\n",
    "temp_C = ((temp_F-32)*(5/9.0))\n",
    "temp_C = round(temp_C,2)\n",
    "print(\"\\n\"+str(temp_C) + \" degrees C are approximately equivalent \"+str(temp_F)+\" degrees F\")\n"
   ]
  },
  {
   "cell_type": "code",
   "execution_count": null,
   "metadata": {},
   "outputs": [],
   "source": []
  }
 ],
 "metadata": {
  "kernelspec": {
   "display_name": "Python 3",
   "language": "python",
   "name": "python3"
  },
  "language_info": {
   "codemirror_mode": {
    "name": "ipython",
    "version": 3
   },
   "file_extension": ".py",
   "mimetype": "text/x-python",
   "name": "python",
   "nbconvert_exporter": "python",
   "pygments_lexer": "ipython3",
   "version": "3.6.4"
  }
 },
 "nbformat": 4,
 "nbformat_minor": 2
}
